{
 "cells": [
  {
   "cell_type": "code",
   "execution_count": 1,
   "id": "77c41e43-1674-4b70-97e8-4ef3bbe76424",
   "metadata": {},
   "outputs": [],
   "source": [
    "# Setup \n",
    "from pathlib import Path\n",
    "import pandas as pd\n",
    "import numpy as np\n",
    "import statsmodels.formula.api as smf\n",
    "import matplotlib.pyplot as plt\n",
    "from stargazer.stargazer import Stargazer \n",
    "from IPython.core.display import HTML\n",
    "from zipfile import ZipFile \n",
    "from io import BytesIO \n",
    "import requests\n",
    "\n",
    "heatmap_py_url = \"https://raw.githubusercontent.com/aezarebski/aas-extended-examples/main/example-2.5/heatmap.py\"\n",
    "req = requests.get(heatmap_py_url)\n",
    "\n",
    "with open(\"urlheatmap.py\", \"w\") as f:\n",
    "    f.write(req.text)\n",
    "    \n",
    "from urlheatmap import correlation_heatmap"
   ]
  },
  {
   "cell_type": "code",
   "execution_count": 2,
   "id": "c9356ba5-f946-49a4-acdc-909778591983",
   "metadata": {
    "tags": []
   },
   "outputs": [],
   "source": [
    "# Wrangling\n",
    "datadir = Path().cwd().parent/\"Stats\"\n",
    "\n",
    "vaccine = pd.read_csv(datadir/ \"covid-vaccine.csv\")\n",
    "vaccine = vaccine.groupby(\"Code\").last()\n",
    "vaccine.reset_index(inplace=True)\n",
    "vaccine[\"Total_Hesitant\"] = vaccine[\"uncertain_covid_vaccinate_this_week_pct_pop\"] + vaccine[\"unwillingness_covid_vaccinate_this_week_pct_pop\"]\n",
    "vaccine_sum= vaccine[[\"Code\",\"Entity\",\"Total_Hesitant\"]]\n",
    "\n",
    "url = \"http://digitalsocietyproject.org/wp-content/uploads/2021/04/DigitalSocietyProject-v3-CSV.zip\"\n",
    "filename = requests.get(url).content\n",
    "zf = ZipFile( BytesIO(filename), \"r\" )\n",
    "match = [s for s in zf.namelist() if \"csv\" in s][0]\n",
    "information = pd.read_csv(zf.open(match), encoding = \"latin-1\")\n",
    "information = information[information[\"year\"] == 2020]\n",
    "information = information[[\"country_name\",\"country_text_id\",\"v2smgovdom\",\"v2smpardom\",\"v2smfordom\", \"v2smforads\"]]\n",
    "for col in [\"v2smfordom\",\"v2smgovdom\",\"v2smpardom\", \"v2smforads\"]:\n",
    "    information[col] = information[col].astype(np.float64)"
   ]
  },
  {
   "cell_type": "code",
   "execution_count": 3,
   "id": "31e34f3b-529a-4a87-9f92-4a795e91be4b",
   "metadata": {
    "tags": []
   },
   "outputs": [
    {
     "data": {
      "text/html": [
       "<div>\n",
       "<style scoped>\n",
       "    .dataframe tbody tr th:only-of-type {\n",
       "        vertical-align: middle;\n",
       "    }\n",
       "\n",
       "    .dataframe tbody tr th {\n",
       "        vertical-align: top;\n",
       "    }\n",
       "\n",
       "    .dataframe thead th {\n",
       "        text-align: right;\n",
       "    }\n",
       "</style>\n",
       "<table border=\"1\" class=\"dataframe\">\n",
       "  <thead>\n",
       "    <tr style=\"text-align: right;\">\n",
       "      <th></th>\n",
       "      <th>v2smgovdom</th>\n",
       "      <th>v2smpardom</th>\n",
       "      <th>v2smfordom</th>\n",
       "      <th>v2smforads</th>\n",
       "    </tr>\n",
       "  </thead>\n",
       "  <tbody>\n",
       "    <tr>\n",
       "      <th>count</th>\n",
       "      <td>179.000000</td>\n",
       "      <td>179.000000</td>\n",
       "      <td>179.000000</td>\n",
       "      <td>179.000000</td>\n",
       "    </tr>\n",
       "    <tr>\n",
       "      <th>mean</th>\n",
       "      <td>-0.110257</td>\n",
       "      <td>-0.288162</td>\n",
       "      <td>-0.053799</td>\n",
       "      <td>-0.187844</td>\n",
       "    </tr>\n",
       "    <tr>\n",
       "      <th>std</th>\n",
       "      <td>1.483532</td>\n",
       "      <td>1.199373</td>\n",
       "      <td>1.245655</td>\n",
       "      <td>1.177588</td>\n",
       "    </tr>\n",
       "    <tr>\n",
       "      <th>min</th>\n",
       "      <td>-3.456000</td>\n",
       "      <td>-3.534000</td>\n",
       "      <td>-4.271000</td>\n",
       "      <td>-3.813000</td>\n",
       "    </tr>\n",
       "    <tr>\n",
       "      <th>25%</th>\n",
       "      <td>-1.206000</td>\n",
       "      <td>-1.133000</td>\n",
       "      <td>-0.979000</td>\n",
       "      <td>-0.880000</td>\n",
       "    </tr>\n",
       "    <tr>\n",
       "      <th>50%</th>\n",
       "      <td>-0.199000</td>\n",
       "      <td>-0.225000</td>\n",
       "      <td>0.086000</td>\n",
       "      <td>-0.146000</td>\n",
       "    </tr>\n",
       "    <tr>\n",
       "      <th>75%</th>\n",
       "      <td>0.984500</td>\n",
       "      <td>0.629500</td>\n",
       "      <td>0.794500</td>\n",
       "      <td>0.612000</td>\n",
       "    </tr>\n",
       "    <tr>\n",
       "      <th>max</th>\n",
       "      <td>2.873000</td>\n",
       "      <td>2.812000</td>\n",
       "      <td>2.543000</td>\n",
       "      <td>2.442000</td>\n",
       "    </tr>\n",
       "  </tbody>\n",
       "</table>\n",
       "</div>"
      ],
      "text/plain": [
       "       v2smgovdom  v2smpardom  v2smfordom  v2smforads\n",
       "count  179.000000  179.000000  179.000000  179.000000\n",
       "mean    -0.110257   -0.288162   -0.053799   -0.187844\n",
       "std      1.483532    1.199373    1.245655    1.177588\n",
       "min     -3.456000   -3.534000   -4.271000   -3.813000\n",
       "25%     -1.206000   -1.133000   -0.979000   -0.880000\n",
       "50%     -0.199000   -0.225000    0.086000   -0.146000\n",
       "75%      0.984500    0.629500    0.794500    0.612000\n",
       "max      2.873000    2.812000    2.543000    2.442000"
      ]
     },
     "execution_count": 3,
     "metadata": {},
     "output_type": "execute_result"
    }
   ],
   "source": [
    "# Table 1\n",
    "information.describe()"
   ]
  },
  {
   "cell_type": "code",
   "execution_count": 4,
   "id": "07210423-300c-4553-9b68-14541ce83805",
   "metadata": {
    "tags": []
   },
   "outputs": [
    {
     "data": {
      "text/plain": [
       "count    15.000000\n",
       "mean     20.435333\n",
       "std       4.478742\n",
       "min      14.350000\n",
       "25%      17.360000\n",
       "50%      20.290000\n",
       "75%      22.800000\n",
       "max      30.370000\n",
       "Name: Total_Hesitant, dtype: float64"
      ]
     },
     "execution_count": 4,
     "metadata": {},
     "output_type": "execute_result"
    }
   ],
   "source": [
    "# Table 2\n",
    "vaccine[\"Total_Hesitant\"].describe()"
   ]
  },
  {
   "cell_type": "code",
   "execution_count": 5,
   "id": "f848349b-74d4-4df5-915b-8b61690e12cc",
   "metadata": {
    "tags": []
   },
   "outputs": [
    {
     "data": {
      "text/html": [
       "<table style=\"text-align:center\"><tr><td colspan=\"4\" style=\"border-bottom: 1px solid black\"></td></tr><tr><td style=\"text-align:left\"></td><td colspan=\"3\"><em>Dependent variable:Total_Hesitant</em></td></tr><tr><td style=\"text-align:left\"></td><tr><td style=\"text-align:left\"></td><td>(1)</td><td>(2)</td><td>(3)</td></tr><tr><td colspan=\"4\" style=\"border-bottom: 1px solid black\"></td></tr><tr><td style=\"text-align:left\">Intercept</td><td>20.683<sup>***</sup></td><td>18.324<sup>***</sup></td><td>16.853<sup>***</sup></td></tr><tr><td style=\"text-align:left\"></td><td>(0.915)</td><td>(1.494)</td><td>(2.157)</td></tr><tr><td style=\"text-align:left\">v2smforads</td><td></td><td></td><td>-0.737<sup></sup></td></tr><tr><td style=\"text-align:left\"></td><td></td><td></td><td>(1.521)</td></tr><tr><td style=\"text-align:left\">v2smfordom</td><td>-3.493<sup>***</sup></td><td>-4.357<sup>***</sup></td><td>-4.432<sup>**</sup></td></tr><tr><td style=\"text-align:left\"></td><td>(1.132)</td><td>(1.128)</td><td>(1.540)</td></tr><tr><td style=\"text-align:left\">v2smgovdom</td><td></td><td></td><td>1.391<sup></sup></td></tr><tr><td style=\"text-align:left\"></td><td></td><td></td><td>(1.365)</td></tr><tr><td style=\"text-align:left\">v2smpardom</td><td></td><td>2.194<sup>*</sup></td><td>1.634<sup></sup></td></tr><tr><td style=\"text-align:left\"></td><td></td><td>(1.153)</td><td>(1.321)</td></tr><td colspan=\"4\" style=\"border-bottom: 1px solid black\"></td></tr><tr><td style=\"text-align: left\">Observations</td><td>15</td><td>15</td><td>15</td></tr><tr><td style=\"text-align: left\">R<sup>2</sup></td><td>0.423</td><td>0.557</td><td>0.599</td></tr><tr><td style=\"text-align: left\">Adjusted R<sup>2</sup></td><td>0.378</td><td>0.483</td><td>0.438</td></tr><tr><td style=\"text-align: left\">Residual Std. Error</td><td>3.531 (df=13)</td><td>3.221 (df=12)</td><td>3.357 (df=10)</td></tr><tr><td style=\"text-align: left\">F Statistic</td><td>9.521<sup>***</sup> (df=1; 13)</td><td>7.532<sup>***</sup> (df=2; 12)</td><td>3.730<sup>**</sup> (df=4; 10)</td></tr><tr><td colspan=\"4\" style=\"border-bottom: 1px solid black\"></td></tr><tr><td style=\"text-align: left\">Note:</td>\n",
       " <td colspan=\"3\" style=\"text-align: right\">\n",
       "  <sup>*</sup>p&lt;0.1;\n",
       "  <sup>**</sup>p&lt;0.05;\n",
       "  <sup>***</sup>p&lt;0.01\n",
       " </td></tr></table>"
      ],
      "text/plain": [
       "<IPython.core.display.HTML object>"
      ]
     },
     "execution_count": 5,
     "metadata": {},
     "output_type": "execute_result"
    }
   ],
   "source": [
    "# Table 3\n",
    "merged=pd.merge(vaccine[[\"Code\",\"Entity\",\"Total_Hesitant\"]], information, how='left', left_on=[\"Code\"],right_on=[\"country_text_id\"])\n",
    "merged.drop([\"country_name\",\"country_text_id\"],axis=1,inplace=True)\n",
    "    \n",
    "form_1 = \"Total_Hesitant ~ v2smfordom\"\n",
    "fit_1 = smf.ols(formula = form_1, data = merged).fit()\n",
    "\n",
    "form_2 = \"Total_Hesitant ~ v2smfordom + v2smpardom\"\n",
    "fit_2 = smf.ols(formula = form_2, data = merged).fit()\n",
    "\n",
    "form_3 = \"Total_Hesitant ~ v2smfordom + v2smgovdom + v2smpardom + v2smforads\"\n",
    "fit_3 = smf.ols(formula = form_3, data = merged).fit()\n",
    "\n",
    "stargazer = Stargazer([fit_1,fit_2,fit_3])\n",
    "HTML(stargazer.render_html())"
   ]
  },
  {
   "cell_type": "code",
   "execution_count": 6,
   "id": "5ddad38f-40b2-4c1e-aa07-eef688cf70c8",
   "metadata": {},
   "outputs": [],
   "source": [
    "# Table 6 (Appendix C)\n",
    "table_6= vaccine.drop(columns=[\"Code\"]).rename(columns={\"Entity\":\"Country\",\"people_vaccinated_per_hundred\":\"People vaccinated (%)\",\"willingness_covid_vaccinate_this_week_pct_pop\":\"Willing (%)\",\n",
    "                                                           \"uncertain_covid_vaccinate_this_week_pct_pop\":\"Uncertain (%)\",\"unwillingness_covid_vaccinate_this_week_pct_pop\":\"Unwilling (%)\",\"Total_Hesitant\":\"Total Hesitant (%)\"})\n",
    "                                                          "
   ]
  },
  {
   "cell_type": "code",
   "execution_count": 7,
   "id": "4a23afb9-e8f5-48e8-9d53-830ad5de0880",
   "metadata": {
    "tags": []
   },
   "outputs": [
    {
     "data": {
      "image/png": "[encoded data removed]",
      "text/plain": [
       "<Figure size 432x288 with 2 Axes>"
      ]
     },
     "metadata": {
      "needs_background": "light"
     },
     "output_type": "display_data"
    }
   ],
   "source": [
    "# Figure 1\n",
    "col_names = merged.columns.to_list()\n",
    "numeric_cols = col_names[2:] \n",
    "correlation_heatmap(merged[numeric_cols])\n",
    "plt.title(\"Figure 1: A Heatmap of the Correlations\")\n",
    "plt.show()"
   ]
  },
  {
   "cell_type": "code",
   "execution_count": 8,
   "id": "716baacd-d3d6-46f6-9dcc-2c485621d6d2",
   "metadata": {
    "tags": []
   },
   "outputs": [
    {
     "data": {
      "image/png": "[encoded data removed]",
      "text/plain": [
       "<Figure size 432x288 with 4 Axes>"
      ]
     },
     "metadata": {
      "needs_background": "light"
     },
     "output_type": "display_data"
    }
   ],
   "source": [
    "# Figure 2\n",
    "plt.subplot(141)\n",
    "plt.scatter(merged[\"v2smgovdom\"],merged[\"Total_Hesitant\"])\n",
    "plt.xlabel('Government')\n",
    "plt.ylabel('Total Hesitancy')\n",
    "\n",
    "plt.subplot(142)\n",
    "plt.scatter(merged[\"v2smpardom\"],merged[\"Total_Hesitant\"])\n",
    "plt.xlabel('Major Parties')\n",
    "\n",
    "plt.subplot(143)\n",
    "plt.scatter(merged[\"v2smfordom\"],merged[\"Total_Hesitant\"])\n",
    "plt.xlabel('Foreign')\n",
    "\n",
    "plt.subplot(144)\n",
    "plt.scatter(merged[\"v2smforads\"],merged[\"Total_Hesitant\"])\n",
    "plt.xlabel('Foreign Ads')\n",
    "\n",
    "plt.subplots_adjust(top=0.8, bottom=0.08, left=0.0, right=1.0, hspace=0.5, wspace=0.5)\n",
    "plt.title(\"Figure 2: Total Hesitancy vs. Trust in the Information by Different Institutions\",loc='right')\n",
    "plt.show()"
   ]
  },
  {
   "cell_type": "code",
   "execution_count": 9,
   "id": "ad7821fa-a944-4613-b1db-5b27b1b0c49c",
   "metadata": {
    "tags": []
   },
   "outputs": [
    {
     "data": {
      "image/png": "[encoded data removed]",
      "text/plain": [
       "<Figure size 432x288 with 1 Axes>"
      ]
     },
     "metadata": {
      "needs_background": "light"
     },
     "output_type": "display_data"
    }
   ],
   "source": [
    "# Figure 3\n",
    "def make_fittedvalues_resid_plot(fit):\n",
    "    plt.figure()\n",
    "    plt.scatter(fit.fittedvalues, fit.resid, color='b')\n",
    "    plt.axhline(y=0, color='r')\n",
    "    plt.xlabel(\"Fitted value\")\n",
    "    plt.ylabel(\"Residual\")\n",
    "    return\n",
    "\n",
    "make_fittedvalues_resid_plot(fit_2)\n",
    "plt.show()"
   ]
  },
  {
   "cell_type": "code",
   "execution_count": null,
   "id": "251174f6-9122-429c-9c56-df93865e2888",
   "metadata": {},
   "outputs": [],
   "source": []
  }
 ],
 "metadata": {
  "kernelspec": {
   "display_name": "Python 3 (ipykernel)",
   "language": "python",
   "name": "python3"
  },
  "language_info": {
   "codemirror_mode": {
    "name": "ipython",
    "version": 3
   },
   "file_extension": ".py",
   "mimetype": "text/x-python",
   "name": "python",
   "nbconvert_exporter": "python",
   "pygments_lexer": "ipython3",
   "version": "3.8.11"
  }
 },
 "nbformat": 4,
 "nbformat_minor": 5
}
